{
 "cells": [
  {
   "cell_type": "code",
   "execution_count": 1,
   "id": "00227241",
   "metadata": {},
   "outputs": [],
   "source": [
    "from torch.utils.data import Dataset, DataLoader\n",
    "import os\n",
    "from PIL import Image\n",
    "import torch\n",
    "from os import listdir\n",
    "from os.path import isfile, join\n",
    "import numpy as np\n",
    "from collections import defaultdict"
   ]
  },
  {
   "cell_type": "code",
   "execution_count": 2,
   "id": "51d60e03",
   "metadata": {},
   "outputs": [],
   "source": [
    "im = Image.open('Rspectrograms/Exhalation_20210427055046_PPCU_HHE_CN_--.png')"
   ]
  },
  {
   "cell_type": "code",
   "execution_count": 3,
   "id": "fafd41ec",
   "metadata": {},
   "outputs": [
    {
     "data": {
      "image/png": "[encoded data removed]",
      "text/plain": [
       "<PIL.PngImagePlugin.PngImageFile image mode=P size=1000x500 at 0x1073716D0>"
      ]
     },
     "execution_count": 3,
     "metadata": {},
     "output_type": "execute_result"
    }
   ],
   "source": [
    "im"
   ]
  },
  {
   "cell_type": "code",
   "execution_count": 4,
   "id": "18038658",
   "metadata": {},
   "outputs": [
    {
     "data": {
      "text/plain": [
       "(500, 1000)"
      ]
     },
     "execution_count": 4,
     "metadata": {},
     "output_type": "execute_result"
    }
   ],
   "source": [
    "array = np.array(im)\n",
    "array.shape"
   ]
  },
  {
   "cell_type": "code",
   "execution_count": 5,
   "id": "bc6116ed",
   "metadata": {},
   "outputs": [
    {
     "data": {
      "text/plain": [
       "(500, 1000, 3)"
      ]
     },
     "execution_count": 5,
     "metadata": {},
     "output_type": "execute_result"
    }
   ],
   "source": [
    "array = np.array(im.convert(\"RGB\")) \n",
    "array.shape"
   ]
  },
  {
   "cell_type": "code",
   "execution_count": 6,
   "id": "c76152ba",
   "metadata": {},
   "outputs": [
    {
     "data": {
      "text/plain": [
       "dtype('uint8')"
      ]
     },
     "execution_count": 6,
     "metadata": {},
     "output_type": "execute_result"
    }
   ],
   "source": [
    "array.dtype"
   ]
  },
  {
   "cell_type": "markdown",
   "id": "cf2e58e1",
   "metadata": {},
   "source": [
    "## Data set from spectrogram images"
   ]
  },
  {
   "cell_type": "code",
   "execution_count": null,
   "id": "77cec002",
   "metadata": {},
   "outputs": [],
   "source": [
    "PATH = 'Rspectrograms/' # where spectrograms are located\n",
    "CLASS = {'Exhalation': 0, 'Explosions': 1, 'Tremor': 2, 'VTs':3}\n",
    "FILES = [f for f in listdir(PATH) if isfile(join(PATH, f))]\n",
    "# key: first word of the file name before the under score, value: label \n",
    "\n",
    "read_image = lambda file: Image.open(os.path.join(PATH, file))\n",
    "get_label = lambda name: CLASS.get(name) \n",
    "convert_rgb = lambda image: image.convert('RGB')"
   ]
  },
  {
   "cell_type": "markdown",
   "id": "e435122c",
   "metadata": {},
   "source": [
    "Dataset where each spectrogram is considered to be an elemnt "
   ]
  },
  {
   "cell_type": "code",
   "execution_count": null,
   "id": "954f72e3",
   "metadata": {},
   "outputs": [],
   "source": [
    "class LabeledSpectrograms1(Dataset):\n",
    "    def __init__(self):\n",
    "        self.X = list()\n",
    "        self.Y = list()\n",
    "        for f in FILES:\n",
    "            clase = f.split('_')[0] \n",
    "            self.X.append(f)\n",
    "            self.Y.append(CLASS[clase])\n",
    "            \n",
    "    def __len__(self):\n",
    "        return len(self.Y)\n",
    "    \n",
    "    def __getitem__(self, index):\n",
    "        image = self.X[index]\n",
    "        x = np.array(read_image(image).convert('RGB'), dtype=np.float64)\n",
    "        x = torch.tensor(x)\n",
    "        y = torch.tensor(float(self.Y[index]))\n",
    "        return x, y"
   ]
  },
  {
   "cell_type": "markdown",
   "id": "68b67cd3",
   "metadata": {},
   "source": [
    "### Plot image from the data set"
   ]
  },
  {
   "cell_type": "markdown",
   "id": "dd41e705",
   "metadata": {},
   "source": [
    "Dataset with each element with 3 spectograms as features"
   ]
  },
  {
   "cell_type": "code",
   "execution_count": null,
   "id": "bda03023",
   "metadata": {},
   "outputs": [],
   "source": [
    "X_np = X.cpu().detach().numpy()[0]\n",
    "X_np = X_np.astype('uint8') \n",
    "Y_np = Y.cpu().detach().numpy()[0]"
   ]
  },
  {
   "cell_type": "code",
   "execution_count": null,
   "id": "37f4a6ac",
   "metadata": {},
   "outputs": [],
   "source": [
    "img = Image.fromarray(X_np, 'RGB')\n",
    "key = next((k for k in LABELS.keys() if LABELS[k] == int(Y_np)), None)\n",
    "img"
   ]
  },
  {
   "cell_type": "code",
   "execution_count": null,
   "id": "5df5130d",
   "metadata": {},
   "outputs": [],
   "source": [
    "print('class: '+key)"
   ]
  },
  {
   "cell_type": "code",
   "execution_count": 13,
   "id": "67b56896",
   "metadata": {},
   "outputs": [],
   "source": [
    "class LabeledSpectrograms3(Dataset):\n",
    "    def __init__(self):\n",
    "        # list of file names \n",
    "        tags = list()\n",
    "        for f in FILES:\n",
    "            try:\n",
    "                clase, date, stn, ch, _, _ = f.split('_')\n",
    "            except:\n",
    "                clase, date, stn, ch, _ = f.split('_')\n",
    "            tags.append(clase + '_' + date + '_' + stn)\n",
    "        \n",
    "        tags = set(tags)\n",
    "        \n",
    "        self.X = list()\n",
    "        self.Y = list()\n",
    "        \n",
    "        for tag in tags:\n",
    "            clase, _, _ = tag.split('_')\n",
    "            other_files = [f for f in FILES if f.startswith(tag)]\n",
    "            \n",
    "            if len(other_files) == 3:\n",
    "                self.X.append(other_files)\n",
    "                self.Y.append(CLASS[clase])\n",
    "            \n",
    "    def __len__(self):\n",
    "        return len(self.Y)\n",
    "    \n",
    "    def __getitem__(self, index):\n",
    "        images = self.X[index]\n",
    "        arrays = [np.array(read_image(im).convert('RGB'), dtype=np.float64) for im in images]\n",
    "        x = np.concatenate(arrays, axis=-1)\n",
    "        x = torch.tensor(x)\n",
    "        y = torch.tensor(float(self.Y[index]))\n",
    "        return x, y\n"
   ]
  },
  {
   "cell_type": "code",
   "execution_count": 14,
   "id": "eba3715b",
   "metadata": {},
   "outputs": [],
   "source": [
    "dataset = LabeledSpectrograms3()"
   ]
  },
  {
   "cell_type": "code",
   "execution_count": 15,
   "id": "31a77d34",
   "metadata": {},
   "outputs": [],
   "source": [
    "dataloader = DataLoader(dataset, shuffle=True)\n",
    "dataloader_it = iter(dataloader)\n",
    "X, Y = next(dataloader_it)"
   ]
  },
  {
   "cell_type": "code",
   "execution_count": 16,
   "id": "c7b3038e",
   "metadata": {},
   "outputs": [
    {
     "data": {
      "text/plain": [
       "torch.Size([1, 500, 1000, 9])"
      ]
     },
     "execution_count": 16,
     "metadata": {},
     "output_type": "execute_result"
    }
   ],
   "source": [
    "X.shape"
   ]
  }
 ],
 "metadata": {
  "kernelspec": {
   "display_name": "Python 3",
   "language": "python",
   "name": "python3"
  },
  "language_info": {
   "codemirror_mode": {
    "name": "ipython",
    "version": 3
   },
   "file_extension": ".py",
   "mimetype": "text/x-python",
   "name": "python",
   "nbconvert_exporter": "python",
   "pygments_lexer": "ipython3",
   "version": "3.8.8"
  }
 },
 "nbformat": 4,
 "nbformat_minor": 5
}
