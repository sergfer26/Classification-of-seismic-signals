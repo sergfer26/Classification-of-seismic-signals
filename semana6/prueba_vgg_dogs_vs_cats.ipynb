{
  "nbformat": 4,
  "nbformat_minor": 0,
  "metadata": {
    "colab": {
      "name": "prueba-vgg-dogs-vs-cats.ipynb",
      "provenance": [],
      "collapsed_sections": [],
      "authorship_tag": "ABX9TyPmBbl6Ezso0ErLf7+//1fZ",
      "include_colab_link": true
    },
    "kernelspec": {
      "name": "python3",
      "display_name": "Python 3"
    },
    "language_info": {
      "name": "python"
    },
    "accelerator": "GPU"
  },
  "cells": [
    {
      "cell_type": "markdown",
      "metadata": {
        "id": "view-in-github",
        "colab_type": "text"
      },
      "source": [
        "<a href=\"https://colab.research.google.com/github/sergfer26/Classification-of-seismic-signals/blob/main/semana6/prueba_vgg_dogs_vs_cats.ipynb\" target=\"_parent\"><img src=\"https://colab.research.google.com/assets/colab-badge.svg\" alt=\"Open In Colab\"/></a>"
      ]
    },
    {
      "cell_type": "markdown",
      "metadata": {
        "id": "i3TL-KNIz7yq"
      },
      "source": [
        "# [Ejercicio] Prueba del modelo con mis propias imágenes"
      ]
    },
    {
      "cell_type": "code",
      "metadata": {
        "id": "BlgsmPSkzbqD"
      },
      "source": [
        "import torch  \n",
        "from torch import nn\n",
        "from PIL import Image\n",
        "from google.colab import drive \n",
        "import torchvision.models as models\n",
        "from matplotlib import pyplot as plt"
      ],
      "execution_count": null,
      "outputs": []
    },
    {
      "cell_type": "markdown",
      "metadata": {
        "id": "GlE7n8323z9E"
      },
      "source": [
        "## Para utilizar los archivos de Drive"
      ]
    },
    {
      "cell_type": "code",
      "metadata": {
        "id": "GkYscmu33wp9"
      },
      "source": [
        "from google.colab import drive # Colab\n",
        "drive.mount('/content/drive') # Colab"
      ],
      "execution_count": null,
      "outputs": []
    },
    {
      "cell_type": "markdown",
      "metadata": {
        "id": "yj5Czdul0DAR"
      },
      "source": [
        "## Revisar disponibilidad del GPU"
      ]
    },
    {
      "cell_type": "code",
      "metadata": {
        "id": "x4oYerMBz5eY"
      },
      "source": [
        "device = 'cpu'\n",
        "if torch.cuda.is_available():\n",
        "    device = 'cuda'\n",
        "\n",
        "print(device)"
      ],
      "execution_count": null,
      "outputs": []
    },
    {
      "cell_type": "markdown",
      "metadata": {
        "id": "9Sm31egS0T1M"
      },
      "source": [
        "## Visualización de tensores como imágenes "
      ]
    },
    {
      "cell_type": "code",
      "metadata": {
        "id": "xbtN8DEo0IrI"
      },
      "source": [
        "def imshow(inp,cmap=None):\n",
        "    \"\"\"Imshow for Tensor.\"\"\"\n",
        "    inp = inp.numpy().transpose((1, 2, 0))\n",
        "    mean = np.array([0.485, 0.456, 0.406])\n",
        "    std = np.array([0.229, 0.224, 0.225])\n",
        "    inp = std * inp + mean\n",
        "    inp = np.clip(inp, 0, 1)\n",
        "    plt.imshow(inp,cmap)"
      ],
      "execution_count": null,
      "outputs": []
    },
    {
      "cell_type": "markdown",
      "metadata": {
        "id": "0t6rgn3_0gkJ"
      },
      "source": [
        "## Definición del modelo"
      ]
    },
    {
      "cell_type": "code",
      "metadata": {
        "id": "O8Vwqf4R0eaF"
      },
      "source": [
        "vgg = models.vgg16(pretrained=True)\n",
        "print(vgg)"
      ],
      "execution_count": null,
      "outputs": []
    },
    {
      "cell_type": "markdown",
      "metadata": {
        "id": "7HITqJUu0_5y"
      },
      "source": [
        "### *Fine tuning*"
      ]
    },
    {
      "cell_type": "code",
      "metadata": {
        "id": "uhL9KRPJ09Jm"
      },
      "source": [
        "vgg.classifier = nn.Sequential(\n",
        "    nn.Linear(in_features=25088, out_features=4096),\n",
        "    nn.ReLU(),\n",
        "    nn.Dropout(p=0.5),\n",
        "    nn.Linear(4096, 512),\n",
        "    nn.ReLU(),\n",
        "    nn.Dropout(p=0.5),\n",
        "    nn.Linear(512, 16),\n",
        "    nn.ReLU(),\n",
        "    nn.Dropout(p=0.5),\n",
        "    nn.Linear(16, 1),\n",
        "    nn.Sigmoid()\n",
        ")\n",
        "print(vgg)"
      ],
      "execution_count": null,
      "outputs": []
    },
    {
      "cell_type": "markdown",
      "metadata": {
        "id": "ZswJ6v0c1Rs2"
      },
      "source": [
        "### Red neuronal dispoible para gpu"
      ]
    },
    {
      "cell_type": "code",
      "metadata": {
        "id": "R0POsR2N1RFq"
      },
      "source": [
        "if torch.cuda.is_available():\n",
        "  vgg = vgg.cuda()"
      ],
      "execution_count": null,
      "outputs": []
    },
    {
      "cell_type": "markdown",
      "metadata": {
        "id": "uq0UaP9b1o_l"
      },
      "source": [
        "### Carga de modelo entrenado en clase\n",
        "\n",
        "Es posible que sea necesario cambiar el `PATH` de donde se encuentra la imagen que usaremos. **Nota:** La red fue entreanada usando GPU, por lo que es necesario cargarla en una red habilitada para usar el GPU, de otra forma marcará error."
      ]
    },
    {
      "cell_type": "code",
      "metadata": {
        "id": "lAaO5hei1sPG"
      },
      "source": [
        "PATH = '/content/drive/MyDrive/Classroom/Proyectos II Grupo 6034/models/vgg-dogs-vs-cats/'\n",
        "vgg.load_state_dict(torch.load(PATH + 'net'))\n",
        "vgg.eval() # Restringimos el uso de la red para evaluación"
      ],
      "execution_count": null,
      "outputs": []
    },
    {
      "cell_type": "markdown",
      "metadata": {
        "id": "JhAC4dTP2hQA"
      },
      "source": [
        "## ¡Carga tu imagen y prueba la red entrenada"
      ]
    },
    {
      "cell_type": "code",
      "metadata": {
        "id": "uP4nDYnh2m1B"
      },
      "source": [
        "img = Image.open('/content/drive/MyDrive/Classroom/Proyectos II Grupo 6034/data-sets/dogs-vs-cats/dimitri1.JPG')"
      ],
      "execution_count": null,
      "outputs": []
    },
    {
      "cell_type": "markdown",
      "metadata": {
        "id": "RwRSrBNW2tlE"
      },
      "source": [
        "Transformamos la imagen a tensor."
      ]
    },
    {
      "cell_type": "code",
      "metadata": {
        "id": "2pTB0VGd2sQ2"
      },
      "source": [
        "img_tensor = simple_transform(img)\n",
        "print('type: {}, shape: {}'.format(type(img_tensor), img_tensor.size()))"
      ],
      "execution_count": null,
      "outputs": []
    },
    {
      "cell_type": "code",
      "metadata": {
        "id": "E4iRVo0Q3XwE"
      },
      "source": [
        "imshow(img_tensor)"
      ],
      "execution_count": null,
      "outputs": []
    },
    {
      "cell_type": "markdown",
      "metadata": {
        "id": "U_nUQbPl23wa"
      },
      "source": [
        "Redimencionamos la imagen de tal forma que la pueda entender la red neuronal."
      ]
    },
    {
      "cell_type": "code",
      "metadata": {
        "id": "gpY-EJ0D3Qsw"
      },
      "source": [
        "batch_tensor = torch.unsqueeze(img_tensor, 0)\n",
        "print('shape: ', batch_tensor.size())"
      ],
      "execution_count": null,
      "outputs": []
    },
    {
      "cell_type": "markdown",
      "metadata": {
        "id": "fFOCLTBd3P55"
      },
      "source": [
        "Probamos el modelo."
      ]
    },
    {
      "cell_type": "code",
      "metadata": {
        "id": "YgqWa8lE4HBh"
      },
      "source": [
        "out = vgg(batch_tensor.to(device))\n",
        "prob = out.item()\n",
        "print('La imagen con {:.2f} de probilidad es un perro'.format(prob))"
      ],
      "execution_count": null,
      "outputs": []
    }
  ]
}